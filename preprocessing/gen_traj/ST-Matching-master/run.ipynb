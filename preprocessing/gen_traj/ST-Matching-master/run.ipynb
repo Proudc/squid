{
 "cells": [
  {
   "cell_type": "code",
   "execution_count": 1,
   "source": [
    "from STmatching_distribution_ver import *\n",
    "from multiprocessing import cpu_count, Pool"
   ],
   "outputs": [
    {
     "output_type": "stream",
     "name": "stderr",
     "text": [
      "/home/changzhihao/mm/ST-Matching-master/STmatching_distribution_ver.py:46: UserWarning: DataFrame columns are not unique, some columns will be omitted.\n",
      "  edge_dist_dict = edge_dist.set_index('idx').T.to_dict('list')\n"
     ]
    }
   ],
   "metadata": {}
  },
  {
   "cell_type": "code",
   "execution_count": 2,
   "source": [
    "import time\n",
    "start_time = time.time()\n",
    "trajectory = pd.read_csv('total_raw_traj.txt')\n",
    "trajectory = data_convert(trajectory)\n",
    "pool = Pool()\n",
    "match_results = pool.map(trajectory_matching, trajectory)\n",
    "pool.close()\n",
    "match_results = pd.concat(match_results, ignore_index=True)\n",
    "stop_time = time.time()\n",
    "print(stop_time - start_time)"
   ],
   "outputs": [
    {
     "output_type": "stream",
     "name": "stdout",
     "text": [
      "1725.5335581302643\n"
     ]
    }
   ],
   "metadata": {}
  },
  {
   "cell_type": "code",
   "execution_count": 11,
   "source": [
    "match_edge = match_results['MATCHED_EDGE']\n",
    "match_node = match_results['MATCHED_NODE']"
   ],
   "outputs": [],
   "metadata": {}
  }
 ],
 "metadata": {
  "kernelspec": {
   "display_name": "Python 3 (ipykernel)",
   "language": "python",
   "name": "python3"
  },
  "language_info": {
   "codemirror_mode": {
    "name": "ipython",
    "version": 3
   },
   "file_extension": ".py",
   "mimetype": "text/x-python",
   "name": "python",
   "nbconvert_exporter": "python",
   "pygments_lexer": "ipython3",
   "version": "3.9.5"
  }
 },
 "nbformat": 4,
 "nbformat_minor": 5
}